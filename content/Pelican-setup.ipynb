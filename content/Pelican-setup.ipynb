{
 "cells": [
  {
   "cell_type": "markdown",
   "metadata": {},
   "source": [
    "![Coding Background]({filename}/images/coding.jpeg)"
   ]
  },
  {
   "cell_type": "markdown",
   "metadata": {},
   "source": [
    "# Setting Up Data Science Blog w/ Pelican + GitHub Pages"
   ]
  },
  {
   "cell_type": "markdown",
   "metadata": {},
   "source": [
    "First of all, this is by no means a thorough tutorial. I've followed Dataquest's blog post: [Building a data science portfolio: Making a data science blog](https://www.dataquest.io/blog/how-to-setup-a-data-science-blog/) to get this one setup. Here are some insights and hiccups that may be helpful to others who want to do the same thing."
   ]
  },
  {
   "cell_type": "markdown",
   "metadata": {},
   "source": [
    "## Static sites and static sites generator"
   ]
  },
  {
   "cell_type": "markdown",
   "metadata": {},
   "source": [
    "If you have never experienced the web development world, static site might be a new word to you. Actually it's quite simple, it's just plan web-site with HTML files, CSS sheets and Javascript files. These file never changes unless you make them, thus the word 'static'. The 'dynamic' site, on the other hand, use database and complex post-end technology to 'dynamically' generate these HTML/CSS/Javascripts files. It's much harder to develop and maintain. \n",
    "But I don't want that complexity you say. I just want to write something and post them and make them look neat. Then, my friend, look no further than a static site. Good news to us, there are a lot of static sites generators out there that can help us do the heavy-lifting of developing a website. \n",
    "The static sites generators come with many flavors, [Jekyell(based on Ruby)](https://jekyllrb.com/), [Pelican(based on Python](https://blog.getpelican.com/) are too popular one. Since I'm more familiar with Python. I decided to use Pelican to build my data science blog."
   ]
  },
  {
   "cell_type": "markdown",
   "metadata": {},
   "source": [
    "The beautiful thing here is, since Pelican is written in Python, it's quite easy to make it work with Jupyter Notebook, which is a huge bonus for data science. This means you can write your blog posts using Jupyter Notebook, leverage all the powerful snippets, data visualization and code executing it has and roll all those into your post, with ease."
   ]
  },
  {
   "cell_type": "markdown",
   "metadata": {},
   "source": [
    "## Install Pelican"
   ]
  },
  {
   "cell_type": "markdown",
   "metadata": {},
   "source": [
    "Usually install Pelican will be easy, but if we also want to support Jupyter Notebook it will be harder. Many python modules will need to be installed using **pip**. "
   ]
  },
  {
   "cell_type": "markdown",
   "metadata": {},
   "source": [
    "Here is a list I used:\n",
    "```bash\n",
    "Markdown==2.6.6    # Markdown support\n",
    "pelican==3.6.3     # Pelican itself\n",
    "jupyter>=1.0       # Jupyter Notebook\n",
    "ipython>=4.0       # iPython\n",
    "nbconvert>=4.0     #\n",
    "beautifulsoup4     # not sure why we need pharsing here, maybe manipulating codes\n",
    "ghp-import==0.4.1  #handle git branches\n",
    "matplotlib==1.5.1  #data visualization\n",
    "```"
   ]
  },
  {
   "cell_type": "markdown",
   "metadata": {},
   "source": [
    "Once all are installed, run:"
   ]
  },
  {
   "cell_type": "markdown",
   "metadata": {},
   "source": [
    "```bash\n",
    "pelican-quickstart\n",
    "```"
   ]
  },
  {
   "cell_type": "markdown",
   "metadata": {},
   "source": [
    "Answer couple of questions and the backbone of your site is up. To make the Jupyter Notebook part work, we will need this Pelican plugin (yes, Pelican support plugins!): [Pelican-ipynb](https://github.com/danielfrg/pelican-ipynb). \n",
    "Once installed, activate the plugin in your `pelicanconf.py`. This is your dot file, and you'll be dealig with it a lot later on. \n",
    "Add these into the bottom:"
   ]
  },
  {
   "cell_type": "markdown",
   "metadata": {},
   "source": [
    "```python\n",
    "MARKUP = ('md', 'ipynb')\n",
    "\n",
    "PLUGIN_PATH = './plugins'\n",
    "PLUGINS = ['ipynb.markup']\n",
    "```"
   ]
  },
  {
   "cell_type": "markdown",
   "metadata": {},
   "source": [
    "## Write Post\n",
    "Well this is the easier part. Just put your Jupyter Notebook file into the `'content'` folder. Also, for each post, we'll need a meta file to include some meta data of the post. The meta file should have the extension: `.ipynb-meta`. Here is an example:"
   ]
  },
  {
   "cell_type": "markdown",
   "metadata": {},
   "source": [
    "```\n",
    "Title: First Post\n",
    "Slug: first-post\n",
    "Date: 2016-06-08 20:00\n",
    "Category: posts\n",
    "Tags: python firsts\n",
    "author: Vik Paruchuri\n",
    "Summary: My first post, read it to find out.\n",
    "```"
   ]
  },
  {
   "cell_type": "markdown",
   "metadata": {},
   "source": [
    "It's quite easy to figure out what they are so I won't bother explain here. When done, save. "
   ]
  },
  {
   "cell_type": "markdown",
   "metadata": {},
   "source": [
    "## Generating HTML\n",
    "Exit out of content folder, and run `pelican content` to generate the HTML. Enter `output` again and run:"
   ]
  },
  {
   "cell_type": "markdown",
   "metadata": {},
   "source": [
    "```bash\n",
    "python -m pelican.server\n",
    "```"
   ]
  },
  {
   "cell_type": "markdown",
   "metadata": {},
   "source": [
    "Then visit: `localhost:8000` to see your new site. "
   ]
  },
  {
   "cell_type": "markdown",
   "metadata": {},
   "source": [
    "## Putting it on GitHub Pages"
   ]
  },
  {
   "cell_type": "markdown",
   "metadata": {},
   "source": [
    "Create a GitHub Page is simple and there are many tutorials out there. Once created, edit your `SITEURL` in `publishconf.py` file, make it into `https://username.github.io`, substitute `username` with your site name. "
   ]
  },
  {
   "cell_type": "markdown",
   "metadata": {},
   "source": [
    "--------------------------"
   ]
  },
  {
   "cell_type": "markdown",
   "metadata": {},
   "source": [
    "Run `pelican content -s publishconf.py` to generate the real stuff. "
   ]
  },
  {
   "cell_type": "markdown",
   "metadata": {},
   "source": [
    "Run `ghp-import output -b master` to import everything into the `output` folder to the `master` branch. "
   ]
  },
  {
   "cell_type": "markdown",
   "metadata": {},
   "source": [
    "Run `git push origin master` to push changes to GitHub repo. "
   ]
  },
  {
   "cell_type": "markdown",
   "metadata": {},
   "source": [
    "----------------------------"
   ]
  },
  {
   "cell_type": "markdown",
   "metadata": {},
   "source": [
    "## Themes\n",
    "There are a lot of [themes](https://github.com/getpelican/pelican-themes) to choose from. What you need to do is to configure your `pelicanconf.py` file and assign the theme name. "
   ]
  },
  {
   "cell_type": "markdown",
   "metadata": {},
   "source": [
    "## Google Analytics\n",
    "Pelican have Google Analytics support out of the box. Register the site on GA, then get the `UA-XXXXxxxxx` id, put it into the `pelicanconf.py` file and you're golden. "
   ]
  },
  {
   "cell_type": "markdown",
   "metadata": {},
   "source": [
    "## Disqus\n",
    "Disqus support come out of the box too. Register the site on Disqus, get your shortname correct, and put into `pelicanconf.py` and you should be good too. Some turorial suggest put into `publishconf.py`, well mine only works on `pelicanconf.py` so use your own judgement. "
   ]
  },
  {
   "cell_type": "markdown",
   "metadata": {},
   "source": [
    "## SEO\n",
    "Basic SEO can be achieved using sitemap plugin. Search for it and put into `pelicanconf.py`, it will work automatically."
   ]
  },
  {
   "cell_type": "markdown",
   "metadata": {},
   "source": [
    "## Conclusion\n",
    "Overall the process is not hard at all. Once everything is set. Just focus on putting in solid content using Jupyter Notebook. Enjoy coding, visualizing and writing!"
   ]
  },
  {
   "cell_type": "markdown",
   "metadata": {},
   "source": []
  }
 ],
 "metadata": {
  "kernelspec": {
   "display_name": "Python 3",
   "language": "python",
   "name": "python3"
  },
  "language_info": {
   "codemirror_mode": {
    "name": "ipython",
    "version": 3
   },
   "file_extension": ".py",
   "mimetype": "text/x-python",
   "name": "python",
   "nbconvert_exporter": "python",
   "pygments_lexer": "ipython3",
   "version": "3.6.3"
  }
 },
 "nbformat": 4,
 "nbformat_minor": 2
}
