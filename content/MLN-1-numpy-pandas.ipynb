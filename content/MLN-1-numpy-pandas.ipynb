{
 "cells": [
  {
   "cell_type": "markdown",
   "metadata": {},
   "source": [
    "# Machine Learning Notes : Numpy and Pandas"
   ]
  },
  {
   "cell_type": "markdown",
   "metadata": {},
   "source": [
    "## Overview\n",
    "This will be a series of notes to record the thinking and learning of my Machine Learning journey. Hopefully it can serve as a place to record the learning process/progress as well as providing some reference for others just entering this field."
   ]
  },
  {
   "cell_type": "markdown",
   "metadata": {},
   "source": [
    "## Numpy\n",
    "Numpy is a powerful module of Python. It covers a lot of basics of Linear algebra, and are great when it comes to doing sceintific and mathematical calculations. That's why it is the 'go-to' solution for Machine Learning. There are other 'highler-level' and more dedicated modules out there like Pandas, seaborn that also utilize or even built on Numpy. Thus proves the powerfulness of Numpy in another way. Though works mostly on the fundation level, Numpy should be considered an equivelant to other more 'advanced' modules and whichever fits the most to solve the problem at hand should be used. \n",
    "Without further ado, let's jump right into some code"
   ]
  },
  {
   "cell_type": "code",
   "execution_count": 3,
   "metadata": {},
   "outputs": [
    {
     "name": "stdout",
     "output_type": "stream",
     "text": [
      "Numpy version:  1.13.3\n"
     ]
    }
   ],
   "source": [
    "import numpy as np   # use 'np' to represent Numpy is kind of a coding convention\n",
    "print('Numpy version: ',np.__version__)"
   ]
  },
  {
   "cell_type": "markdown",
   "metadata": {},
   "source": [
    "Now it's imported, let's use it to do some basic stuffs."
   ]
  },
  {
   "cell_type": "code",
   "execution_count": 5,
   "metadata": {},
   "outputs": [
    {
     "data": {
      "text/plain": [
       "array([[ 0.99082281,  0.99574266,  0.68103016],\n",
       "       [ 0.02280371,  0.52490083,  0.76850488],\n",
       "       [ 0.48789963,  0.76641899,  0.55770887],\n",
       "       [ 0.50984645,  0.72081923,  0.72736904],\n",
       "       [ 0.10045068,  0.99868411,  0.01836912]])"
      ]
     },
     "execution_count": 5,
     "metadata": {},
     "output_type": "execute_result"
    }
   ],
   "source": [
    "x = np.random.rand(5,3)\n",
    "x"
   ]
  },
  {
   "cell_type": "markdown",
   "metadata": {},
   "source": [
    "Manipulate with array is what Numpy do best. Here we generated an 5 row 3 columns array of randome numbers (from 0 to 1)"
   ]
  },
  {
   "cell_type": "code",
   "execution_count": 8,
   "metadata": {},
   "outputs": [
    {
     "name": "stdout",
     "output_type": "stream",
     "text": [
      "(5, 3)\n",
      "float64\n"
     ]
    }
   ],
   "source": [
    "print(x.shape)\n",
    "print(x.dtype)"
   ]
  },
  {
   "cell_type": "markdown",
   "metadata": {},
   "source": [
    "We can look at the shape of an array and what data type it is. Obviously it's a float since it's generated from np.random.rand. "
   ]
  },
  {
   "cell_type": "code",
   "execution_count": 10,
   "metadata": {},
   "outputs": [
    {
     "data": {
      "text/plain": [
       "array([[ 1.20007174,  0.85741976,  0.72938949,  0.85038025],\n",
       "       [ 0.31774752,  0.58516212,  0.33099611,  0.45153268],\n",
       "       [ 0.70892815,  0.66759538,  0.50324908,  0.57621354],\n",
       "       [ 0.75194448,  0.69800217,  0.51543393,  0.64382753],\n",
       "       [ 0.337497  ,  0.62003878,  0.42647586,  0.27492106]])"
      ]
     },
     "execution_count": 10,
     "metadata": {},
     "output_type": "execute_result"
    }
   ],
   "source": [
    "y = np.random.rand(3,4)\n",
    "z = np.dot(x,y)\n",
    "z"
   ]
  },
  {
   "cell_type": "code",
   "execution_count": null,
   "metadata": {
    "collapsed": true
   },
   "outputs": [],
   "source": [
    "Doing some good old dot product. "
   ]
  },
  {
   "cell_type": "code",
   "execution_count": 12,
   "metadata": {},
   "outputs": [
    {
     "data": {
      "text/plain": [
       "array([[ 1.20007174,  0.85741976,  0.72938949,  0.85038025],\n",
       "       [ 0.31774752,  0.58516212,  0.33099611,  0.45153268],\n",
       "       [ 0.70892815,  0.66759538,  0.50324908,  0.57621354],\n",
       "       [ 0.75194448,  0.69800217,  0.51543393,  0.64382753],\n",
       "       [ 0.337497  ,  0.62003878,  0.42647586,  0.27492106]])"
      ]
     },
     "execution_count": 12,
     "metadata": {},
     "output_type": "execute_result"
    }
   ],
   "source": [
    "z = x @ y\n",
    "z"
   ]
  },
  {
   "cell_type": "markdown",
   "metadata": {},
   "source": [
    "Or more intuitively use '@' operand. "
   ]
  },
  {
   "cell_type": "markdown",
   "metadata": {},
   "source": [
    "...to be continued..."
   ]
  },
  {
   "cell_type": "code",
   "execution_count": null,
   "metadata": {
    "collapsed": true
   },
   "outputs": [],
   "source": []
  }
 ],
 "metadata": {
  "kernelspec": {
   "display_name": "Python 3",
   "language": "python",
   "name": "python3"
  },
  "language_info": {
   "codemirror_mode": {
    "name": "ipython",
    "version": 3
   },
   "file_extension": ".py",
   "mimetype": "text/x-python",
   "name": "python",
   "nbconvert_exporter": "python",
   "pygments_lexer": "ipython3",
   "version": "3.6.3"
  }
 },
 "nbformat": 4,
 "nbformat_minor": 2
}
